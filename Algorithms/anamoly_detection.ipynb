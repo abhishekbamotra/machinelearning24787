{
 "cells": [
  {
   "cell_type": "code",
   "execution_count": 7,
   "metadata": {},
   "outputs": [],
   "source": [
    "import numpy as np\n",
    "import pandas as pd\n",
    "from sklearn.model_selection import train_test_split\n",
    "import matplotlib.pyplot as plt\n",
    "import os\n",
    "from utils import *\n",
    "np.random.seed(0)"
   ]
  },
  {
   "cell_type": "code",
   "execution_count": 8,
   "metadata": {},
   "outputs": [
    {
     "name": "stdout",
     "output_type": "stream",
     "text": [
      "WARNING *** OLE2 inconsistency: SSCS size is 0 but SSAT size is non-zero\n"
     ]
    }
   ],
   "source": [
    "# READING DATA FROM THE DATASET TO PANDAS DATA FRAME\n",
    "x=pd.read_excel('DSL-StrongPasswordData.xls')\n",
    "\n",
    "# REMOVING TWO UNWANTED COLUMN FROM THE DATA SET\n",
    "del x['sessionIndex']\n",
    "del x['rep']"
   ]
  },
  {
   "cell_type": "code",
   "execution_count": 9,
   "metadata": {},
   "outputs": [],
   "source": [
    "# EXTRACTING LIST OF USER NAMES FROM THE DATASET (IN THIS CASE 51)\n",
    "x1=x.groupby('subject')\n",
    "user_names=x1.subject.unique()"
   ]
  },
  {
   "cell_type": "code",
   "execution_count": 10,
   "metadata": {},
   "outputs": [],
   "source": [
    "# CREATING A DICTIONARY CALLED 'dataframes' WHERE DATA IS STORED AS FOLLOWS\n",
    "# {KEY : VALUE}\n",
    "# {USER_i : PANDAS DATAFRAME FOR USER i}\n",
    "# EXAMPLE: {\"user1\" : data frame for user 1}\n",
    "user_all_data = {}\n",
    "\n",
    "# CREATING A DICTIONARY CALLED 'usernames' WHERE ORIGINAL USER NAMES ARE MAPPED TO NEW USER NAMES\n",
    "# {NEW USER NAME : ORIGINAL USER NAME}\n",
    "# EXAMPLE: {\"user1\" : \"s002\"}\n",
    "usernames = {}\n",
    "\n",
    "for i, user in enumerate(user_names):\n",
    "    \n",
    "    # CREATING NAME OF USER\n",
    "    name = \"user\"+str(i+1)\n",
    "    \n",
    "    # STORING USER NAME AND DATA FRAMES TO DICTIONARY\n",
    "    user_all_data[name] = x1.get_group(user[0])\n",
    "    usernames[name] = user[0]\n"
   ]
  },
  {
   "cell_type": "code",
   "execution_count": 11,
   "metadata": {},
   "outputs": [],
   "source": [
    "# CREATE DATA STRUCTURE FOR TRAIN TEST AND ANAMOLY DATASET\n",
    "train_data, test_data, anamoly_data = create_data_stucture(user_all_data, usernames)"
   ]
  },
  {
   "cell_type": "markdown",
   "metadata": {},
   "source": [
    "## EUCLIDEAN"
   ]
  },
  {
   "cell_type": "code",
   "execution_count": 12,
   "metadata": {},
   "outputs": [
    {
     "ename": "TabError",
     "evalue": "inconsistent use of tabs and spaces in indentation (<ipython-input-12-adbf6fa684f0>, line 34)",
     "output_type": "error",
     "traceback": [
      "\u001b[1;36m  File \u001b[1;32m\"<ipython-input-12-adbf6fa684f0>\"\u001b[1;36m, line \u001b[1;32m34\u001b[0m\n\u001b[1;33m    min_score = min(user_score.min(), anamoly_score.min())\u001b[0m\n\u001b[1;37m                                                          ^\u001b[0m\n\u001b[1;31mTabError\u001b[0m\u001b[1;31m:\u001b[0m inconsistent use of tabs and spaces in indentation\n"
     ]
    }
   ],
   "source": [
    "# LOAD TEST TRAIN DATA\n",
    "\n",
    "metric = 'EUCLIDEAN'\n",
    "\n",
    "for i,user in enumerate(usernames):\n",
    "#     user = 'user4'\n",
    "    train = train_data[user]\n",
    "    test = test_data[user]\n",
    "    anamoly = pd.DataFrame()\n",
    "\n",
    "    # CREATE A LOOP TO CREATE THE ANAMOLY DATASET\n",
    "    anamoly = create_anamoly_data_set_for_a_user(anamoly_data, user)\n",
    "\n",
    "    # CREATE MEAN VECTOR\n",
    "    mean = train.mean(axis = 0) \n",
    "\n",
    "    # FUNCTION FOR EUCLEDIAN DISTANCE CALCULATION\n",
    "    def calculate_dist(train, mean):\n",
    "        distance = (train - mean).pow(2)\n",
    "        score = (distance.sum(axis=1)).pow(0.5)\n",
    "        return score, score.max(), score.min()\n",
    "\n",
    "    # CALCULATE USER SCORE\n",
    "    user_score, user_max, user_min = (calculate_dist(test, mean))\n",
    "    print(user+\" test score - \" + str(user_score.shape[0]) + \" elemnts\" )\n",
    "\n",
    "    # CALCULATE IMPOSTER SCORE\n",
    "    anamoly_score, anamoly_max, anamoly_min = calculate_dist(anamoly, mean)\n",
    "    print(user+\" impo score - \" + str(anamoly_score.shape[0]) + \" elemnts\" )\n",
    "\n",
    "    # CREATE SEARCHSPACE FOR OPTIMAL THRESHOLD\n",
    "    hit_rate_list, miss_rate_list, flase_alarm_rate_list, error, equal_error_index = search_optimal_threshold(user_score, anamoly_score)       \n",
    "\n",
    "    # PLOT THE ROC CURVE\n",
    "    plot_ROC(i, user, hit_rate_list, flase_alarm_rate_list, equal_error_index, metric)\n"
   ]
  },
  {
   "cell_type": "code",
   "execution_count": null,
   "metadata": {},
   "outputs": [],
   "source": []
  },
  {
   "cell_type": "code",
   "execution_count": null,
   "metadata": {},
   "outputs": [],
   "source": []
  }
 ],
 "metadata": {
  "kernelspec": {
   "display_name": "Python 3",
   "language": "python",
   "name": "python3"
  },
  "language_info": {
   "codemirror_mode": {
    "name": "ipython",
    "version": 3
   },
   "file_extension": ".py",
   "mimetype": "text/x-python",
   "name": "python",
   "nbconvert_exporter": "python",
   "pygments_lexer": "ipython3",
   "version": "3.7.3"
  }
 },
 "nbformat": 4,
 "nbformat_minor": 4
}
