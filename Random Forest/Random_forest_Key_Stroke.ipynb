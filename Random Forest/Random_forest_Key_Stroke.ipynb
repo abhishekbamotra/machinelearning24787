{
 "cells": [
  {
   "cell_type": "code",
   "execution_count": 9,
   "metadata": {},
   "outputs": [
    {
     "name": "stderr",
     "output_type": "stream",
     "text": [
      "C:\\Users\\mohan\\Anaconda3\\lib\\site-packages\\IPython\\core\\interactiveshell.py:3058: DtypeWarning: Columns (1,2,3,4,5,6,7,8,9,10,11,12,13,14,15,16,17,18,19,20,21,22,23,24,25,26,27,28,29,30,31,32,33) have mixed types. Specify dtype option on import or set low_memory=False.\n",
      "  interactivity=interactivity, compiler=compiler, result=result)\n"
     ]
    }
   ],
   "source": [
    "from sklearn.model_selection import train_test_split\n",
    "import matplotlib.pyplot as plt\n",
    "import numpy as np\n",
    "import pandas as pd\n",
    "DF = pd.read_csv(\"keystroke.csv\",header=None)\n"
   ]
  },
  {
   "cell_type": "code",
   "execution_count": 10,
   "metadata": {},
   "outputs": [
    {
     "name": "stdout",
     "output_type": "stream",
     "text": [
      "0     subject H.period DD.period.t UD.period.t     H.t  DD.t.i  UD.t.i  \\\n",
      "1        s002   0.1491      0.3979      0.2488  0.1069  0.1674  0.0605   \n",
      "2        s002   0.1111      0.3451       0.234  0.0694  0.1283  0.0589   \n",
      "3        s002   0.1328      0.2072      0.0744  0.0731  0.1291   0.056   \n",
      "4        s002   0.1291      0.2515      0.1224  0.1059  0.2495  0.1436   \n",
      "5        s002   0.1249      0.2317      0.1068  0.0895  0.1676  0.0781   \n",
      "...       ...      ...         ...         ...     ...     ...     ...   \n",
      "20396    s057   0.0884      0.0685     -0.0199  0.1095   0.129  0.0195   \n",
      "20397    s057   0.0655       0.063     -0.0025   0.091  0.1148  0.0238   \n",
      "20398    s057   0.0939      0.1189       0.025  0.1008  0.1122  0.0114   \n",
      "20399    s057   0.0923      0.1294      0.0371  0.0913   0.099  0.0077   \n",
      "20400    s057   0.0596       0.131      0.0714  0.0992  0.1103  0.0111   \n",
      "\n",
      "0         H.i  DD.i.e  UD.i.e  ...     H.a  DD.a.n  UD.a.n     H.n  DD.n.l  \\\n",
      "1      0.1169  0.2212  0.1043  ...  0.1349  0.1484  0.0135  0.0932  0.3515   \n",
      "2      0.0908  0.1357  0.0449  ...  0.1412  0.2558  0.1146  0.1146  0.2642   \n",
      "3      0.0821  0.1542  0.0721  ...  0.1621  0.2332  0.0711  0.1172  0.2705   \n",
      "4       0.104  0.2038  0.0998  ...  0.1457  0.1629  0.0172  0.0866  0.2341   \n",
      "5      0.0903  0.1589  0.0686  ...  0.1312  0.1582   0.027  0.0884  0.2517   \n",
      "...       ...     ...     ...  ...     ...     ...     ...     ...     ...   \n",
      "20396  0.0945  0.0757 -0.0188  ...  0.1219  0.1383  0.0164   0.082  0.1329   \n",
      "20397  0.0916  0.0636  -0.028  ...  0.1008  0.0512 -0.0496  0.1037  0.0868   \n",
      "20398  0.0721  0.0462 -0.0259  ...  0.0913  0.1169  0.0256  0.0689  0.1311   \n",
      "20399  0.0992  0.0897 -0.0095  ...  0.0882  0.0821 -0.0061  0.0576  0.0697   \n",
      "20400  0.0998  0.0813 -0.0185  ...  0.0969  0.0784 -0.0185   0.079  0.1133   \n",
      "\n",
      "0      UD.n.l     H.l DD.l.Return UD.l.Return H.Return  \n",
      "1      0.2583  0.1338      0.3509      0.2171   0.0742  \n",
      "2      0.1496  0.0839      0.2756      0.1917   0.0747  \n",
      "3      0.1533  0.1085      0.2847      0.1762   0.0945  \n",
      "4      0.1475  0.0845      0.3232      0.2387   0.0813  \n",
      "5      0.1633  0.0903      0.2517      0.1614   0.0818  \n",
      "...       ...     ...         ...         ...      ...  \n",
      "20396  0.0509  0.1005      0.2054      0.1049   0.1047  \n",
      "20397 -0.0169  0.1445      0.2206      0.0761   0.1198  \n",
      "20398  0.0622  0.1034      0.2017      0.0983   0.0905  \n",
      "20399  0.0121  0.0979      0.1917      0.0938   0.0931  \n",
      "20400  0.0343  0.0807      0.1993      0.1186   0.1018  \n",
      "\n",
      "[20400 rows x 32 columns]\n"
     ]
    }
   ],
   "source": [
    "DF.columns = DF.iloc[0]\n",
    "DF=DF.drop([0], axis=0)\n",
    "DF=DF.drop(['sessionIndex', 'rep'], axis=1)\n",
    "print(DF)"
   ]
  },
  {
   "cell_type": "code",
   "execution_count": 11,
   "metadata": {},
   "outputs": [
    {
     "name": "stderr",
     "output_type": "stream",
     "text": [
      "C:\\Users\\mohan\\Anaconda3\\lib\\site-packages\\ipykernel_launcher.py:12: DataConversionWarning: A column-vector y was passed when a 1d array was expected. Please change the shape of y to (n_samples,), for example using ravel().\n",
      "  if sys.path[0] == '':\n"
     ]
    }
   ],
   "source": [
    "#Random Forest \n",
    "X4=DF.iloc[:,1:32].values\n",
    "Y4=DF.iloc[:,0].values.reshape(-1, 1)\n",
    "X_train, X_test, y_train, y_test = train_test_split(X4, Y4, random_state = 0) \n",
    "  \n",
    "from sklearn.ensemble import RandomForestClassifier\n",
    "\n",
    "#Create a Gaussian Classifier\n",
    "clf=RandomForestClassifier(n_estimators=200)\n",
    "\n",
    "#Train the model using the training sets y_pred=clf.predict(X_test)\n",
    "clf.fit(X_train,y_train)\n",
    "\n",
    "y_pred=clf.predict(X_test)"
   ]
  },
  {
   "cell_type": "code",
   "execution_count": 12,
   "metadata": {},
   "outputs": [
    {
     "name": "stdout",
     "output_type": "stream",
     "text": [
      "Accuracy: 0.9396078431372549\n",
      "[[ 78   1   0 ...   0   0   0]\n",
      " [  0  89   3 ...   0   0   0]\n",
      " [  2   1  82 ...   0   0   0]\n",
      " ...\n",
      " [  1   0   0 ... 102   2   0]\n",
      " [  0   0   1 ...   0  83   0]\n",
      " [  0   0   0 ...   1   0  72]]\n"
     ]
    }
   ],
   "source": [
    "from sklearn import metrics\n",
    "# Model Accuracy, how often is the classifier correct?\n",
    "print(\"Accuracy:\",metrics.accuracy_score(y_test, y_pred))\n",
    "from sklearn.metrics import confusion_matrix\n",
    "\n",
    "conf_mat = confusion_matrix(y_test, y_pred)\n",
    "print(conf_mat)"
   ]
  },
  {
   "cell_type": "code",
   "execution_count": null,
   "metadata": {},
   "outputs": [],
   "source": []
  }
 ],
 "metadata": {
  "kernelspec": {
   "display_name": "Python 3",
   "language": "python",
   "name": "python3"
  },
  "language_info": {
   "codemirror_mode": {
    "name": "ipython",
    "version": 3
   },
   "file_extension": ".py",
   "mimetype": "text/x-python",
   "name": "python",
   "nbconvert_exporter": "python",
   "pygments_lexer": "ipython3",
   "version": "3.7.4"
  }
 },
 "nbformat": 4,
 "nbformat_minor": 2
}
